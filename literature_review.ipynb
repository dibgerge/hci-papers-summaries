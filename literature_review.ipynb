{
 "cells": [
  {
   "cell_type": "markdown",
   "metadata": {},
   "source": [
    "* [Martin et al., \"Detection of subconscious face recognition using consumer-grade brain-computer interfaces,\" ACM Transactions on Applied Perception, Vol. 14, 2016](#martin2016)\n",
    "* [C bellman, MV Martin, \"Use of Machine Learning for Detection of Unaware Facial Recognition Without Individual Training\", 16th IEEE International Conference on Machine Learning and Applications, 2017](#bellman2017)"
   ]
  },
  {
   "cell_type": "markdown",
   "metadata": {},
   "source": [
    "<a id='martin2016'>\n",
    "## M V Martin, V Cho, G Aversano, \"Detection of subconscious face recognition using consumer-grade brain-computer interfaces\", ACM Transactions on Applied Perception, Vol. 14, Article 7, 2016.\n",
    "</a>\n",
    "\n",
    "This article investigates the ability to use EEG signal to detect if a subject recognizes pictures of famous people subconciously or does not recognize the picture at all. One of the interesting aspects of this paper is the way they designed their experiments. \n",
    "\n",
    "A total of 19 subjects were used in the experiments. For each subject, experiments were conducted in two phases as follows:\n",
    "- In phase 1 (used for training data), 30 famous people and 10 photos per person (300 total) were shown,\n",
    "- In phase 2 (used for test data), 60 famous people and 10 photos per person (600 total) were shown,\n",
    "- Photos were shown at a rate of 1 second,\n",
    "- A 1 minute rest was given between the two phases phases,\n",
    "- Subject could rest anytime during the experiment by hitting any letter key on the keyboard,\n",
    "- Subject hit space bar if they recognized the photo.\n",
    "- At end of experiment a questionaire was given to subjects to verify if they recognize each of the 90 famous people. All 10 pictures of the famous person were shown in the questionaire, along with an introduction paragraph from wikipedia.\n",
    "\n",
    "Once all is done, the following table was used to label the EEG data: \n",
    "\n",
    "| Outcome | Recognition in experiment | No recognition in experiment |\n",
    "|-        |-                          |-               \n",
    "| Recognition in exit questionaire | Conscious recognition (CR) | Possible subconscious recognition (PSR)\n",
    "| No recognition in exit questionaire | False recognition (FR) | Possible no recognition (PNR) \n",
    "\n",
    "### Data Processing\n",
    "\n",
    "- Only data corresponding to no recognition and subconscious recognition was kept. \n",
    "- If subject recongnized a famous person less than 8/10 times, it is assumed that there is no recognition and data is dropped.\n",
    "- Band-pass filter between 0.1 Hz and 15 Hz is applied to all channels. \n",
    "- If a channel voltage goes above $\\pm 50 \\mu V$, the channel is dropped (assumed large signal due to blinks/head movement).\n",
    "\n",
    "\n",
    "### Other remarks\n",
    "\n",
    "- Authors used SVM for classification. They only used per-subject classification, and did not attempt to use inter-subject classification. \n",
    "\n",
    "- Within the 1000 ms in which an image is shown, SVM was trained on many different epochs, based on literature describing when VEP (visually evoked potential) will appear. A total of 9 different time intervals were investigated. \n",
    "\n",
    "- Only about 65% accuracy was acheived, and accuracy varies greatly between subjects (from 50 % up to 90%). <font color='red'>This is misleading, because subjects with higher accuracies had more imbalanced datasets! </font>\n",
    "\n",
    "- In general, F-scores for all subjects were below 0.5, indicating that there is not much value in the detection..."
   ]
  },
  {
   "cell_type": "markdown",
   "metadata": {},
   "source": [
    "<a id=\"bellman2017\">\n",
    "## C bellman, MV Martin, \"Use of Machine Learning for Detection of Unaware Facial Recognition Without Individual Training\", 16th IEEE International Conference on Machine Learning and Applications, 2017.\n",
    "</a>\n",
    "\n",
    "- This paper attempts to differentiate between fully-aware (conscious) recognition from the unaware (subconscious) recognition.\n",
    "- An experiment was conducted over the course of two days. \n",
    "- Data was taken from the FERET database (face recognition technology).\n",
    "- Total of 43 participants. 6 out of the 43 participants had bad data, and were not considered.\n",
    "\n",
    "**Day 1**\n",
    "\n",
    "- Considered as a training session (not yet clear if this means that the data collected was used for training the classifier).\n",
    "- Total of 162 images used.\n",
    "- 20 images shows as UR (unaware recognition). Repeated 3 times each.\n",
    "- Each image shown for 1 second, followed by a blank screen for one second.\n",
    "\n",
    "**Day 2**\n",
    "\n",
    "- Total of 102 images shown to each participant.\n",
    "- Phase 1: 10 images out of the 20 images shown the previous day were spaced envenly among 92 filler images. \n",
    "- Phase 2: Shown a single pre-selected image and subject asked to memorize it for aware recognition (AR). Then, participants asked to search for face shown to them from a number of images. The image was shown a total of 20 times. Other 10 UR images were also shown among 72 filler images.\n",
    "\n",
    "### Data Pre-processing\n",
    " - Now we have a dataset with two labels (UR/AR). \n",
    " - 0.5 - 12 Hz bandpass filter\n",
    " - ICA \n",
    " - All data was concatenated and had a size of 122 samples (almost 1 second)\n",
    " - Remove features within the lowest 80% of variance, resulting in **24 features for classification**.\n",
    " \n",
    " \n",
    "### Classification \n",
    " \n",
    " - They used a 3 layer multi-layer perceptron and data was split into 80/20 for train/validate. \n",
    " - Cross-validation to determine parameters (mostly hidden layer sizes).\n",
    " - Achieved 0.71 F-score. \n",
    " \n"
   ]
  },
  {
   "cell_type": "markdown",
   "metadata": {},
   "source": [
    "<a id=\"Krauledat2008\">\n",
    "## M. Krauledat, M. Tangermann, B. Blankertz, K.R. Muller, \"Towards Zero Training for Brain-Computer Interfacing,\" PLOS One, vol. 3(8), 2008.\n",
    "</a>\n",
    "\n"
   ]
  }
 ],
 "metadata": {
  "kernelspec": {
   "display_name": "Python 3",
   "language": "python",
   "name": "python3"
  },
  "language_info": {
   "codemirror_mode": {
    "name": "ipython",
    "version": 3
   },
   "file_extension": ".py",
   "mimetype": "text/x-python",
   "name": "python",
   "nbconvert_exporter": "python",
   "pygments_lexer": "ipython3",
   "version": "3.6.4"
  }
 },
 "nbformat": 4,
 "nbformat_minor": 2
}
